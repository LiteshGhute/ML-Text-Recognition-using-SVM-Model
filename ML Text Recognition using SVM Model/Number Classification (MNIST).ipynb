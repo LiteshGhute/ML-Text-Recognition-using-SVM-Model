{
 "cells": [
  {
   "cell_type": "markdown",
   "id": "91780ed5",
   "metadata": {},
   "source": [
    "## Predict Number using SVM (MNIST Dataset)"
   ]
  },
  {
   "cell_type": "code",
   "execution_count": 1,
   "id": "452d1681",
   "metadata": {},
   "outputs": [],
   "source": [
    "import numpy as np\n",
    "import pandas as pd\n",
    "from sklearn.model_selection import train_test_split\n",
    "from sklearn.svm import SVC\n",
    "from sklearn.metrics import confusion_matrix, accuracy_score\n",
    "import matplotlib.pyplot as plt\n",
    "import seaborn as sns\n",
    "import cv2"
   ]
  },
  {
   "cell_type": "code",
   "execution_count": 2,
   "id": "24aec3b6",
   "metadata": {},
   "outputs": [],
   "source": [
    "df = pd.read_csv('mnist_train.csv')"
   ]
  },
  {
   "cell_type": "code",
   "execution_count": 3,
   "id": "a9a980fa",
   "metadata": {},
   "outputs": [
    {
     "data": {
      "text/plain": [
       "(59999, 785)"
      ]
     },
     "execution_count": 3,
     "metadata": {},
     "output_type": "execute_result"
    }
   ],
   "source": [
    "df.shape"
   ]
  },
  {
   "cell_type": "code",
   "execution_count": 4,
   "id": "05907daa",
   "metadata": {},
   "outputs": [
    {
     "data": {
      "text/html": [
       "<div>\n",
       "<style scoped>\n",
       "    .dataframe tbody tr th:only-of-type {\n",
       "        vertical-align: middle;\n",
       "    }\n",
       "\n",
       "    .dataframe tbody tr th {\n",
       "        vertical-align: top;\n",
       "    }\n",
       "\n",
       "    .dataframe thead th {\n",
       "        text-align: right;\n",
       "    }\n",
       "</style>\n",
       "<table border=\"1\" class=\"dataframe\">\n",
       "  <thead>\n",
       "    <tr style=\"text-align: right;\">\n",
       "      <th></th>\n",
       "      <th>5</th>\n",
       "      <th>0</th>\n",
       "      <th>0.1</th>\n",
       "      <th>0.2</th>\n",
       "      <th>0.3</th>\n",
       "      <th>0.4</th>\n",
       "      <th>0.5</th>\n",
       "      <th>0.6</th>\n",
       "      <th>0.7</th>\n",
       "      <th>0.8</th>\n",
       "      <th>...</th>\n",
       "      <th>0.608</th>\n",
       "      <th>0.609</th>\n",
       "      <th>0.610</th>\n",
       "      <th>0.611</th>\n",
       "      <th>0.612</th>\n",
       "      <th>0.613</th>\n",
       "      <th>0.614</th>\n",
       "      <th>0.615</th>\n",
       "      <th>0.616</th>\n",
       "      <th>0.617</th>\n",
       "    </tr>\n",
       "  </thead>\n",
       "  <tbody>\n",
       "    <tr>\n",
       "      <th>0</th>\n",
       "      <td>0</td>\n",
       "      <td>0</td>\n",
       "      <td>0</td>\n",
       "      <td>0</td>\n",
       "      <td>0</td>\n",
       "      <td>0</td>\n",
       "      <td>0</td>\n",
       "      <td>0</td>\n",
       "      <td>0</td>\n",
       "      <td>0</td>\n",
       "      <td>...</td>\n",
       "      <td>0</td>\n",
       "      <td>0</td>\n",
       "      <td>0</td>\n",
       "      <td>0</td>\n",
       "      <td>0</td>\n",
       "      <td>0</td>\n",
       "      <td>0</td>\n",
       "      <td>0</td>\n",
       "      <td>0</td>\n",
       "      <td>0</td>\n",
       "    </tr>\n",
       "    <tr>\n",
       "      <th>1</th>\n",
       "      <td>4</td>\n",
       "      <td>0</td>\n",
       "      <td>0</td>\n",
       "      <td>0</td>\n",
       "      <td>0</td>\n",
       "      <td>0</td>\n",
       "      <td>0</td>\n",
       "      <td>0</td>\n",
       "      <td>0</td>\n",
       "      <td>0</td>\n",
       "      <td>...</td>\n",
       "      <td>0</td>\n",
       "      <td>0</td>\n",
       "      <td>0</td>\n",
       "      <td>0</td>\n",
       "      <td>0</td>\n",
       "      <td>0</td>\n",
       "      <td>0</td>\n",
       "      <td>0</td>\n",
       "      <td>0</td>\n",
       "      <td>0</td>\n",
       "    </tr>\n",
       "    <tr>\n",
       "      <th>2</th>\n",
       "      <td>1</td>\n",
       "      <td>0</td>\n",
       "      <td>0</td>\n",
       "      <td>0</td>\n",
       "      <td>0</td>\n",
       "      <td>0</td>\n",
       "      <td>0</td>\n",
       "      <td>0</td>\n",
       "      <td>0</td>\n",
       "      <td>0</td>\n",
       "      <td>...</td>\n",
       "      <td>0</td>\n",
       "      <td>0</td>\n",
       "      <td>0</td>\n",
       "      <td>0</td>\n",
       "      <td>0</td>\n",
       "      <td>0</td>\n",
       "      <td>0</td>\n",
       "      <td>0</td>\n",
       "      <td>0</td>\n",
       "      <td>0</td>\n",
       "    </tr>\n",
       "    <tr>\n",
       "      <th>3</th>\n",
       "      <td>9</td>\n",
       "      <td>0</td>\n",
       "      <td>0</td>\n",
       "      <td>0</td>\n",
       "      <td>0</td>\n",
       "      <td>0</td>\n",
       "      <td>0</td>\n",
       "      <td>0</td>\n",
       "      <td>0</td>\n",
       "      <td>0</td>\n",
       "      <td>...</td>\n",
       "      <td>0</td>\n",
       "      <td>0</td>\n",
       "      <td>0</td>\n",
       "      <td>0</td>\n",
       "      <td>0</td>\n",
       "      <td>0</td>\n",
       "      <td>0</td>\n",
       "      <td>0</td>\n",
       "      <td>0</td>\n",
       "      <td>0</td>\n",
       "    </tr>\n",
       "    <tr>\n",
       "      <th>4</th>\n",
       "      <td>2</td>\n",
       "      <td>0</td>\n",
       "      <td>0</td>\n",
       "      <td>0</td>\n",
       "      <td>0</td>\n",
       "      <td>0</td>\n",
       "      <td>0</td>\n",
       "      <td>0</td>\n",
       "      <td>0</td>\n",
       "      <td>0</td>\n",
       "      <td>...</td>\n",
       "      <td>0</td>\n",
       "      <td>0</td>\n",
       "      <td>0</td>\n",
       "      <td>0</td>\n",
       "      <td>0</td>\n",
       "      <td>0</td>\n",
       "      <td>0</td>\n",
       "      <td>0</td>\n",
       "      <td>0</td>\n",
       "      <td>0</td>\n",
       "    </tr>\n",
       "  </tbody>\n",
       "</table>\n",
       "<p>5 rows × 785 columns</p>\n",
       "</div>"
      ],
      "text/plain": [
       "   5  0  0.1  0.2  0.3  0.4  0.5  0.6  0.7  0.8  ...  0.608  0.609  0.610  \\\n",
       "0  0  0    0    0    0    0    0    0    0    0  ...      0      0      0   \n",
       "1  4  0    0    0    0    0    0    0    0    0  ...      0      0      0   \n",
       "2  1  0    0    0    0    0    0    0    0    0  ...      0      0      0   \n",
       "3  9  0    0    0    0    0    0    0    0    0  ...      0      0      0   \n",
       "4  2  0    0    0    0    0    0    0    0    0  ...      0      0      0   \n",
       "\n",
       "   0.611  0.612  0.613  0.614  0.615  0.616  0.617  \n",
       "0      0      0      0      0      0      0      0  \n",
       "1      0      0      0      0      0      0      0  \n",
       "2      0      0      0      0      0      0      0  \n",
       "3      0      0      0      0      0      0      0  \n",
       "4      0      0      0      0      0      0      0  \n",
       "\n",
       "[5 rows x 785 columns]"
      ]
     },
     "execution_count": 4,
     "metadata": {},
     "output_type": "execute_result"
    }
   ],
   "source": [
    "df.head()"
   ]
  },
  {
   "cell_type": "code",
   "execution_count": 5,
   "id": "428cb325",
   "metadata": {},
   "outputs": [
    {
     "data": {
      "text/plain": [
       "5      0\n",
       "0      0\n",
       "0.1    0\n",
       "0.2    0\n",
       "0.3    0\n",
       "0.4    0\n",
       "0.5    0\n",
       "0.6    0\n",
       "0.7    0\n",
       "0.8    0\n",
       "dtype: int64"
      ]
     },
     "execution_count": 5,
     "metadata": {},
     "output_type": "execute_result"
    }
   ],
   "source": [
    "df.isnull().sum().head(10) #checking for null"
   ]
  },
  {
   "cell_type": "code",
   "execution_count": 6,
   "id": "78654a53",
   "metadata": {},
   "outputs": [
    {
     "data": {
      "text/plain": [
       "numpy.ndarray"
      ]
     },
     "execution_count": 6,
     "metadata": {},
     "output_type": "execute_result"
    }
   ],
   "source": [
    "data = df.values\n",
    "type(data)"
   ]
  },
  {
   "cell_type": "code",
   "execution_count": 7,
   "id": "0bceea1d",
   "metadata": {},
   "outputs": [],
   "source": [
    "X = data[:,1:]\n",
    "Y = data[:,0]"
   ]
  },
  {
   "cell_type": "code",
   "execution_count": 8,
   "id": "a807ae45",
   "metadata": {},
   "outputs": [
    {
     "name": "stdout",
     "output_type": "stream",
     "text": [
      "(59999, 784) (59999,)\n"
     ]
    }
   ],
   "source": [
    "print(X.shape,Y.shape)"
   ]
  },
  {
   "cell_type": "code",
   "execution_count": 9,
   "id": "2ec22216",
   "metadata": {},
   "outputs": [
    {
     "data": {
      "image/png": "[encoded data removed]",
      "text/plain": [
       "<Figure size 432x288 with 1 Axes>"
      ]
     },
     "metadata": {
      "needs_background": "light"
     },
     "output_type": "display_data"
    },
    {
     "data": {
      "image/png": "[encoded data removed]",
      "text/plain": [
       "<Figure size 432x288 with 1 Axes>"
      ]
     },
     "metadata": {
      "needs_background": "light"
     },
     "output_type": "display_data"
    }
   ],
   "source": [
    "def drawImage(X,Y,i):\n",
    "    plt.imshow(X[i].reshape(28,28),cmap='gray')\n",
    "    plt.title('Label'+str(Y[i]))\n",
    "    plt.show()\n",
    "    \n",
    "for i in range(2):    \n",
    "    drawImage(X,Y,i)"
   ]
  },
  {
   "cell_type": "code",
   "execution_count": 10,
   "id": "354f3cf8",
   "metadata": {},
   "outputs": [
    {
     "name": "stdout",
     "output_type": "stream",
     "text": [
      "(47999, 784) (47999,)\n",
      "(12000, 784) (12000,)\n"
     ]
    }
   ],
   "source": [
    "# to split the dataset using sklearn\n",
    "\n",
    "from sklearn.model_selection import train_test_split\n",
    "\n",
    "XT,Xt,YT,Yt = train_test_split(X,Y,test_size=0.2,random_state=1)  #random_state is like seed, to get same dataset everytime\n",
    "print(XT.shape, YT.shape)\n",
    "print(Xt.shape,Yt.shape)"
   ]
  },
  {
   "cell_type": "code",
   "execution_count": 11,
   "id": "1bf95d88",
   "metadata": {},
   "outputs": [],
   "source": [
    "XT = XT.astype('float64')\n",
    "Xt = Xt.astype('float64')"
   ]
  },
  {
   "cell_type": "code",
   "execution_count": 12,
   "id": "e7d122d6",
   "metadata": {},
   "outputs": [],
   "source": [
    "XT/=255\n",
    "Xt/=255"
   ]
  },
  {
   "cell_type": "code",
   "execution_count": 13,
   "id": "96cbf477",
   "metadata": {},
   "outputs": [],
   "source": [
    "# model\n",
    "model = SVC(kernel='rbf')\n",
    "\n",
    "# fit\n",
    "model.fit(XT, YT)\n",
    "\n",
    "# predict\n",
    "y_pred = model.predict(Xt)"
   ]
  },
  {
   "cell_type": "code",
   "execution_count": 14,
   "id": "6bc77c11",
   "metadata": {},
   "outputs": [
    {
     "name": "stdout",
     "output_type": "stream",
     "text": [
      "accuracy: 0.97825 \n",
      "\n",
      "[[1183    1    2    1    0    2    4    1    3    0]\n",
      " [   0 1290    4    0    4    0    1    0    1    1]\n",
      " [   3    1 1198    4    1    0    1    5    5    0]\n",
      " [   0    2   12 1180    1    9    0    4    9    5]\n",
      " [   0    3    3    0 1142    0    6    3    2   13]\n",
      " [   4    0    3    8    5 1078    6    0    5    3]\n",
      " [   4    1    0    0    3    1 1162    0    3    0]\n",
      " [   0    6    8    1    8    0    0 1222    1    6]\n",
      " [   1    5    4    5    4    6    3    2 1173    3]\n",
      " [   2    3    0    4    8    5    1    9    3 1111]]\n"
     ]
    }
   ],
   "source": [
    "# accuracy\n",
    "print(\"accuracy:\", accuracy_score(y_true=Yt, y_pred=y_pred), \"\\n\")\n",
    "\n",
    "# confusion matrix\n",
    "print(confusion_matrix(y_true=Yt, y_pred=y_pred))"
   ]
  },
  {
   "cell_type": "code",
   "execution_count": 15,
   "id": "0789fe6e",
   "metadata": {},
   "outputs": [],
   "source": [
    "img = cv2.imread('test-image.jpg',cv2.IMREAD_GRAYSCALE)\n",
    "image = cv2.resize(img, (28,28))  #Resize the data to the MNIST dimensions\n",
    "image = image.astype('float64')\n",
    "image = image.reshape(1,-1)\n",
    "image = 255-image\n",
    "image /= 255"
   ]
  },
  {
   "cell_type": "code",
   "execution_count": 16,
   "id": "3032022b",
   "metadata": {},
   "outputs": [
    {
     "data": {
      "text/plain": [
       "array([[0.03529412, 0.03529412, 0.03529412, 0.03529412, 0.03529412,\n",
       "        0.03529412, 0.03529412, 0.03529412, 0.03529412, 0.03529412,\n",
       "        0.03529412, 0.03529412, 0.03529412, 0.03529412, 0.03529412,\n",
       "        0.03529412, 0.03529412, 0.03529412, 0.03529412, 0.03529412,\n",
       "        0.03529412, 0.03529412, 0.03529412, 0.03529412, 0.03529412,\n",
       "        0.03529412, 0.03529412, 0.03529412, 0.03529412, 0.03529412,\n",
       "        0.03529412, 0.03529412, 0.03529412, 0.03529412, 0.03529412,\n",
       "        0.03529412, 0.03529412, 0.03529412, 0.03529412, 0.03529412,\n",
       "        0.03529412, 0.03529412, 0.03529412, 0.03529412, 0.03529412,\n",
       "        0.03529412, 0.03529412, 0.03529412, 0.03529412, 0.03529412,\n",
       "        0.03529412, 0.03529412, 0.03529412, 0.03529412, 0.03529412,\n",
       "        0.03529412, 0.03529412, 0.03529412, 0.03529412, 0.03529412,\n",
       "        0.03529412, 0.03529412, 0.03529412, 0.03529412, 0.03529412,\n",
       "        0.03529412, 0.03529412, 0.03529412, 0.03529412, 0.99607843,\n",
       "        1.        , 1.        , 1.        , 1.        , 0.03529412,\n",
       "        0.03529412, 0.03529412, 0.03529412, 0.03529412, 0.03529412,\n",
       "        0.03529412, 0.03529412, 0.03529412, 0.03529412, 0.03529412,\n",
       "        0.03529412, 0.03529412, 0.03529412, 0.03529412, 0.03529412,\n",
       "        0.03529412, 0.03529412, 0.03529412, 0.03529412, 0.03529412,\n",
       "        1.        , 1.        , 1.        , 1.        , 1.        ,\n",
       "        1.        , 1.        , 1.        , 0.03529412, 0.03529412,\n",
       "        0.03529412, 0.03529412, 0.03529412, 0.03529412, 0.03529412,\n",
       "        0.03529412, 0.03529412, 0.03529412, 0.03529412, 0.03529412,\n",
       "        0.03529412, 0.03529412, 0.03529412, 0.03529412, 0.03529412,\n",
       "        0.03529412, 0.03529412, 1.        , 1.        , 1.        ,\n",
       "        1.        , 0.03529412, 0.03529412, 0.03529412, 0.03529412,\n",
       "        1.        , 1.        , 0.03529412, 0.03529412, 0.03529412,\n",
       "        0.03529412, 0.03529412, 0.03529412, 0.03529412, 0.03529412,\n",
       "        0.03529412, 0.03529412, 0.03529412, 0.03529412, 0.03529412,\n",
       "        0.03529412, 0.03529412, 0.03529412, 0.03529412, 1.        ,\n",
       "        1.        , 1.        , 0.03529412, 0.03529412, 0.03529412,\n",
       "        0.03529412, 0.03529412, 0.03529412, 0.84313725, 1.        ,\n",
       "        0.03529412, 0.03529412, 0.03529412, 0.03529412, 0.03529412,\n",
       "        0.03529412, 0.03529412, 0.03529412, 0.03529412, 0.03529412,\n",
       "        0.03529412, 0.03529412, 0.03529412, 0.03529412, 0.03529412,\n",
       "        0.03529412, 1.        , 1.        , 1.        , 0.03529412,\n",
       "        0.03529412, 0.03529412, 0.03529412, 0.03529412, 0.03529412,\n",
       "        0.03529412, 1.        , 1.        , 0.03529412, 0.03529412,\n",
       "        0.03529412, 0.03529412, 0.03529412, 0.03529412, 0.03529412,\n",
       "        0.03529412, 0.03529412, 0.03529412, 0.03529412, 0.03529412,\n",
       "        0.03529412, 0.03529412, 0.03529412, 0.03529412, 1.        ,\n",
       "        1.        , 0.03529412, 0.03529412, 0.03529412, 0.03529412,\n",
       "        0.03529412, 0.03529412, 0.03529412, 0.03529412, 1.        ,\n",
       "        1.        , 0.03529412, 0.03529412, 0.03529412, 0.03529412,\n",
       "        0.03529412, 0.03529412, 0.03529412, 0.03529412, 0.03529412,\n",
       "        0.03529412, 0.03529412, 0.03529412, 0.03529412, 0.03529412,\n",
       "        0.03529412, 0.03529412, 1.        , 1.        , 0.03529412,\n",
       "        0.03529412, 0.03529412, 0.03529412, 0.03529412, 0.03529412,\n",
       "        0.03529412, 1.        , 1.        , 1.        , 0.03529412,\n",
       "        0.03529412, 0.03529412, 0.03529412, 0.03529412, 0.03529412,\n",
       "        0.03529412, 0.03529412, 0.03529412, 0.03529412, 0.03529412,\n",
       "        0.03529412, 0.03529412, 0.03529412, 0.03529412, 0.03529412,\n",
       "        0.03529412, 0.03529412, 0.03529412, 0.03529412, 0.03529412,\n",
       "        0.03529412, 0.03529412, 0.03529412, 0.03529412, 1.        ,\n",
       "        1.        , 0.03529412, 0.03529412, 0.03529412, 0.03529412,\n",
       "        0.03529412, 0.03529412, 0.03529412, 0.03529412, 0.03529412,\n",
       "        0.03529412, 0.03529412, 0.03529412, 0.03529412, 0.03529412,\n",
       "        0.03529412, 0.03529412, 0.03529412, 0.03529412, 0.03529412,\n",
       "        0.03529412, 0.03529412, 0.03529412, 0.03529412, 0.03529412,\n",
       "        0.03529412, 1.        , 1.        , 0.98039216, 0.03529412,\n",
       "        0.03529412, 0.03529412, 0.03529412, 0.03529412, 0.03529412,\n",
       "        0.03529412, 0.03529412, 0.03529412, 0.03529412, 0.03529412,\n",
       "        0.03529412, 0.03529412, 0.03529412, 0.03529412, 0.03529412,\n",
       "        0.03529412, 0.03529412, 0.03529412, 0.03529412, 0.03529412,\n",
       "        0.03529412, 0.03529412, 0.03529412, 1.        , 1.        ,\n",
       "        1.        , 0.03529412, 0.03529412, 0.03529412, 0.03529412,\n",
       "        0.03529412, 0.03529412, 0.03529412, 0.03529412, 0.03529412,\n",
       "        0.03529412, 0.03529412, 0.03529412, 0.03529412, 0.03529412,\n",
       "        0.03529412, 0.03529412, 0.03529412, 0.03529412, 0.03529412,\n",
       "        0.03529412, 0.03529412, 0.03529412, 0.03529412, 1.        ,\n",
       "        1.        , 1.        , 1.        , 0.03529412, 0.03529412,\n",
       "        0.03529412, 0.03529412, 0.03529412, 0.03529412, 0.03529412,\n",
       "        0.03529412, 0.03529412, 0.03529412, 0.03529412, 0.03529412,\n",
       "        0.03529412, 0.03529412, 0.03529412, 0.03529412, 0.03529412,\n",
       "        0.03529412, 0.03529412, 0.03529412, 0.03529412, 0.03529412,\n",
       "        0.03529412, 0.03529412, 1.        , 1.        , 1.        ,\n",
       "        1.        , 1.        , 0.03921569, 0.03529412, 0.03529412,\n",
       "        0.03529412, 0.03529412, 0.03529412, 0.03529412, 0.03529412,\n",
       "        0.03529412, 0.03529412, 0.03529412, 0.03529412, 0.03529412,\n",
       "        0.03529412, 0.03529412, 0.03529412, 0.03529412, 0.03529412,\n",
       "        0.03529412, 0.03529412, 0.03529412, 0.03529412, 0.03529412,\n",
       "        0.03529412, 1.        , 0.56862745, 1.        , 1.        ,\n",
       "        1.        , 0.03529412, 0.03529412, 0.03529412, 0.03529412,\n",
       "        0.03529412, 0.03529412, 0.03529412, 0.03529412, 0.03529412,\n",
       "        0.03529412, 0.03529412, 0.03529412, 0.03529412, 0.03529412,\n",
       "        0.03529412, 0.03529412, 0.03529412, 0.03529412, 0.03529412,\n",
       "        0.03529412, 0.03529412, 0.03529412, 0.03529412, 0.03529412,\n",
       "        0.03529412, 0.03529412, 0.03529412, 1.        , 1.        ,\n",
       "        0.03529412, 0.03529412, 0.03529412, 0.03529412, 0.03529412,\n",
       "        0.03529412, 0.03529412, 0.03529412, 0.03529412, 0.03529412,\n",
       "        0.03529412, 0.03529412, 0.03529412, 0.03529412, 0.03529412,\n",
       "        0.03529412, 0.03529412, 0.03529412, 0.03529412, 0.03529412,\n",
       "        0.03529412, 0.03529412, 0.03529412, 0.03529412, 0.03529412,\n",
       "        0.03529412, 1.        , 1.        , 0.03529412, 0.03529412,\n",
       "        0.03529412, 0.03529412, 0.03529412, 0.03529412, 0.03529412,\n",
       "        0.03529412, 0.03529412, 0.03529412, 0.03529412, 0.03529412,\n",
       "        0.03529412, 0.03529412, 0.03529412, 0.03529412, 0.03529412,\n",
       "        0.03529412, 0.03529412, 0.03529412, 0.03529412, 0.03529412,\n",
       "        0.03529412, 0.03529412, 0.03529412, 0.03529412, 1.        ,\n",
       "        1.        , 0.03529412, 0.03529412, 0.03529412, 0.03529412,\n",
       "        0.03529412, 0.03529412, 0.03529412, 0.03529412, 0.03529412,\n",
       "        0.03529412, 0.03529412, 0.03529412, 0.03529412, 0.03529412,\n",
       "        0.03529412, 0.03529412, 0.03529412, 0.03529412, 0.03529412,\n",
       "        0.03529412, 0.03529412, 0.03529412, 0.03529412, 0.03529412,\n",
       "        0.03529412, 0.03529412, 1.        , 1.        , 0.03529412,\n",
       "        0.03529412, 0.03529412, 0.03529412, 0.03529412, 0.03529412,\n",
       "        0.03529412, 0.03529412, 0.03529412, 0.03529412, 0.03529412,\n",
       "        0.03529412, 0.03529412, 0.03529412, 0.03529412, 0.03529412,\n",
       "        0.03529412, 0.03529412, 0.03529412, 0.03529412, 0.03529412,\n",
       "        0.03529412, 0.03529412, 0.03529412, 0.03529412, 0.03529412,\n",
       "        1.        , 1.        , 0.03529412, 0.03529412, 0.03529412,\n",
       "        0.03529412, 0.03529412, 0.03529412, 0.03529412, 0.03529412,\n",
       "        0.03529412, 0.03529412, 0.03529412, 0.03529412, 0.03529412,\n",
       "        0.03529412, 0.03529412, 0.03529412, 0.03529412, 0.03529412,\n",
       "        0.03529412, 0.03529412, 0.03529412, 0.03529412, 0.03529412,\n",
       "        0.03529412, 0.03529412, 0.92941176, 1.        , 1.        ,\n",
       "        0.03529412, 0.03529412, 0.03529412, 0.03529412, 0.03529412,\n",
       "        0.03529412, 0.03529412, 0.03529412, 0.03529412, 0.03529412,\n",
       "        0.03529412, 0.03529412, 0.03529412, 0.03529412, 0.03529412,\n",
       "        0.03529412, 0.03529412, 0.03529412, 0.03529412, 0.03529412,\n",
       "        0.03529412, 0.03529412, 0.03529412, 0.03529412, 0.03529412,\n",
       "        1.        , 1.        , 0.03529412, 0.03529412, 0.03529412,\n",
       "        0.03529412, 0.03529412, 0.03529412, 0.03529412, 0.03529412,\n",
       "        0.03529412, 0.03529412, 0.03529412, 0.03529412, 0.03529412,\n",
       "        0.03529412, 0.03529412, 0.03529412, 0.03529412, 0.03529412,\n",
       "        0.03529412, 0.03529412, 0.03529412, 0.03529412, 0.03529412,\n",
       "        0.03529412, 0.03529412, 1.        , 1.        , 1.        ,\n",
       "        0.03529412, 0.03529412, 0.03529412, 0.03529412, 0.03529412,\n",
       "        0.03529412, 0.03529412, 0.03529412, 0.03529412, 0.03529412,\n",
       "        0.03529412, 0.03529412, 0.03529412, 0.03529412, 0.03529412,\n",
       "        0.03529412, 0.03529412, 0.03529412, 1.        , 1.        ,\n",
       "        0.03529412, 0.03529412, 0.03529412, 1.        , 1.        ,\n",
       "        1.        , 1.        , 0.03529412, 0.03529412, 0.03529412,\n",
       "        0.03529412, 0.03529412, 0.03529412, 0.03529412, 0.03529412,\n",
       "        0.03529412, 0.03529412, 0.03529412, 0.03529412, 0.03529412,\n",
       "        0.03529412, 0.03529412, 0.03529412, 0.03529412, 0.03529412,\n",
       "        0.03529412, 1.        , 1.        , 1.        , 1.        ,\n",
       "        1.        , 1.        , 1.        , 1.        , 0.03529412,\n",
       "        0.03529412, 0.03529412, 0.03529412, 0.03529412, 0.03529412,\n",
       "        0.03529412, 0.03529412, 0.03529412, 0.03529412, 0.03529412,\n",
       "        0.03529412, 0.03529412, 0.03529412, 0.03529412, 0.03529412,\n",
       "        0.03529412, 0.03529412, 0.03529412, 0.03529412, 0.03529412,\n",
       "        1.        , 1.        , 1.        , 1.        , 1.        ,\n",
       "        0.03529412, 0.03529412, 0.03529412, 0.03529412, 0.03529412,\n",
       "        0.03529412, 0.03529412, 0.03529412, 0.03529412, 0.03529412,\n",
       "        0.03529412, 0.03529412, 0.03529412, 0.03529412, 0.03529412,\n",
       "        0.03529412, 0.03529412, 0.03529412, 0.03529412, 0.03529412,\n",
       "        0.03529412, 0.03529412, 0.03529412, 0.03529412, 0.03529412,\n",
       "        0.03529412, 0.03529412, 0.03529412, 0.03529412, 0.03529412,\n",
       "        0.03529412, 0.03529412, 0.03529412, 0.03529412, 0.03529412,\n",
       "        0.03529412, 0.03529412, 0.03529412, 0.03529412, 0.03529412,\n",
       "        0.03529412, 0.03529412, 0.03529412, 0.03529412, 0.03529412,\n",
       "        0.03529412, 0.03529412, 0.03529412, 0.03529412, 0.03529412,\n",
       "        0.03529412, 0.03529412, 0.03529412, 0.03529412, 0.03529412,\n",
       "        0.03529412, 0.03529412, 0.03529412, 0.03529412, 0.03529412,\n",
       "        0.03529412, 0.03529412, 0.03529412, 0.03529412, 0.03529412,\n",
       "        0.03529412, 0.03529412, 0.03529412, 0.03529412]])"
      ]
     },
     "execution_count": 16,
     "metadata": {},
     "output_type": "execute_result"
    }
   ],
   "source": [
    "image"
   ]
  },
  {
   "cell_type": "code",
   "execution_count": 17,
   "id": "ae539f31",
   "metadata": {},
   "outputs": [
    {
     "data": {
      "text/plain": [
       "<function matplotlib.pyplot.show(close=None, block=None)>"
      ]
     },
     "execution_count": 17,
     "metadata": {},
     "output_type": "execute_result"
    },
    {
     "data": {
      "image/png": "[encoded data removed]",
      "text/plain": [
       "<Figure size 432x288 with 1 Axes>"
      ]
     },
     "metadata": {
      "needs_background": "light"
     },
     "output_type": "display_data"
    }
   ],
   "source": [
    "plt.imshow(image.reshape(28,28),cmap='gray')\n",
    "plt.show"
   ]
  },
  {
   "cell_type": "code",
   "execution_count": 18,
   "id": "e7739e10",
   "metadata": {},
   "outputs": [
    {
     "data": {
      "text/plain": [
       "array([3], dtype=int64)"
      ]
     },
     "execution_count": 18,
     "metadata": {},
     "output_type": "execute_result"
    }
   ],
   "source": [
    "model.predict(image) #testing our result"
   ]
  },
  {
   "cell_type": "markdown",
   "id": "bc7e3195",
   "metadata": {},
   "source": [
    "### Save model for the future use"
   ]
  },
  {
   "cell_type": "code",
   "execution_count": 19,
   "id": "f8eecdaf",
   "metadata": {},
   "outputs": [],
   "source": [
    "import joblib #to save our model"
   ]
  },
  {
   "cell_type": "code",
   "execution_count": 20,
   "id": "6f57e31b",
   "metadata": {},
   "outputs": [
    {
     "data": {
      "text/plain": [
       "['model.pkl']"
      ]
     },
     "execution_count": 20,
     "metadata": {},
     "output_type": "execute_result"
    }
   ],
   "source": [
    "joblib.dump(model, 'model.pkl') #creating .pkl file"
   ]
  },
  {
   "cell_type": "code",
   "execution_count": 21,
   "id": "efeb05a2",
   "metadata": {},
   "outputs": [],
   "source": [
    "m = joblib.load('model.pkl')"
   ]
  },
  {
   "cell_type": "code",
   "execution_count": 22,
   "id": "a2f75333",
   "metadata": {},
   "outputs": [
    {
     "data": {
      "text/plain": [
       "array([3], dtype=int64)"
      ]
     },
     "execution_count": 22,
     "metadata": {},
     "output_type": "execute_result"
    }
   ],
   "source": [
    "m.predict(image)"
   ]
  }
 ],
 "metadata": {
  "kernelspec": {
   "display_name": "Python 3 (ipykernel)",
   "language": "python",
   "name": "python3"
  },
  "language_info": {
   "codemirror_mode": {
    "name": "ipython",
    "version": 3
   },
   "file_extension": ".py",
   "mimetype": "text/x-python",
   "name": "python",
   "nbconvert_exporter": "python",
   "pygments_lexer": "ipython3",
   "version": "3.7.11"
  }
 },
 "nbformat": 4,
 "nbformat_minor": 5
}
